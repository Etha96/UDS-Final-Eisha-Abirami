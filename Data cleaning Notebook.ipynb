{
 "cells": [
  {
   "cell_type": "code",
   "execution_count": 1,
   "id": "36eb290b-f853-457e-9d94-77df49edd89a",
   "metadata": {},
   "outputs": [],
   "source": [
    "import pandas as pd"
   ]
  },
  {
   "cell_type": "code",
   "execution_count": 21,
   "id": "4b4dffc6-3774-4ca5-951f-7e2eee145ec7",
   "metadata": {},
   "outputs": [
    {
     "name": "stderr",
     "output_type": "stream",
     "text": [
      "C:\\Users\\eisha\\AppData\\Local\\Temp\\ipykernel_22608\\3290951917.py:1: DtypeWarning: Columns (6,7,14,15,17,26,29,30,33,42) have mixed types. Specify dtype option on import or set low_memory=False.\n",
      "  df = pd.read_csv('Crashes (All).csv')\n"
     ]
    }
   ],
   "source": [
    "df = pd.read_csv('Crashes (All).csv')"
   ]
  },
  {
   "cell_type": "code",
   "execution_count": 23,
   "id": "cf1596d4-9e88-49b9-bcca-248ea9999a85",
   "metadata": {},
   "outputs": [
    {
     "data": {
      "text/html": [
       "<div>\n",
       "<style scoped>\n",
       "    .dataframe tbody tr th:only-of-type {\n",
       "        vertical-align: middle;\n",
       "    }\n",
       "\n",
       "    .dataframe tbody tr th {\n",
       "        vertical-align: top;\n",
       "    }\n",
       "\n",
       "    .dataframe thead th {\n",
       "        text-align: right;\n",
       "    }\n",
       "</style>\n",
       "<table border=\"1\" class=\"dataframe\">\n",
       "  <thead>\n",
       "    <tr style=\"text-align: right;\">\n",
       "      <th></th>\n",
       "      <th>CASE_ID</th>\n",
       "      <th>ACCIDENT_YEAR</th>\n",
       "      <th>PROC_DATE</th>\n",
       "      <th>JURIS</th>\n",
       "      <th>COLLISION_DATE</th>\n",
       "      <th>COLLISION_TIME</th>\n",
       "      <th>OFFICER_ID</th>\n",
       "      <th>REPORTING_DISTRICT</th>\n",
       "      <th>DAY_OF_WEEK</th>\n",
       "      <th>CHP_SHIFT</th>\n",
       "      <th>...</th>\n",
       "      <th>COUNT_MC_KILLED</th>\n",
       "      <th>COUNT_MC_INJURED</th>\n",
       "      <th>PRIMARY_RAMP</th>\n",
       "      <th>SECONDARY_RAMP</th>\n",
       "      <th>LATITUDE</th>\n",
       "      <th>LONGITUDE</th>\n",
       "      <th>COUNTY</th>\n",
       "      <th>CITY</th>\n",
       "      <th>POINT_X</th>\n",
       "      <th>POINT_Y</th>\n",
       "    </tr>\n",
       "  </thead>\n",
       "  <tbody>\n",
       "    <tr>\n",
       "      <th>0</th>\n",
       "      <td>81380291</td>\n",
       "      <td>2021</td>\n",
       "      <td>2021-01-04</td>\n",
       "      <td>1942</td>\n",
       "      <td>2021-01-02</td>\n",
       "      <td>1910</td>\n",
       "      <td>35203</td>\n",
       "      <td>2074</td>\n",
       "      <td>6</td>\n",
       "      <td>5</td>\n",
       "      <td>...</td>\n",
       "      <td>0</td>\n",
       "      <td>0</td>\n",
       "      <td>-</td>\n",
       "      <td>-</td>\n",
       "      <td>NaN</td>\n",
       "      <td>NaN</td>\n",
       "      <td>LOS ANGELES</td>\n",
       "      <td>LOS ANGELES</td>\n",
       "      <td>-118.301025</td>\n",
       "      <td>34.043671</td>\n",
       "    </tr>\n",
       "    <tr>\n",
       "      <th>1</th>\n",
       "      <td>81380543</td>\n",
       "      <td>2021</td>\n",
       "      <td>2021-01-05</td>\n",
       "      <td>1933</td>\n",
       "      <td>2021-01-01</td>\n",
       "      <td>140</td>\n",
       "      <td>916</td>\n",
       "      <td>30</td>\n",
       "      <td>5</td>\n",
       "      <td>5</td>\n",
       "      <td>...</td>\n",
       "      <td>0</td>\n",
       "      <td>0</td>\n",
       "      <td>-</td>\n",
       "      <td>-</td>\n",
       "      <td>33.941830</td>\n",
       "      <td>-118.339783</td>\n",
       "      <td>LOS ANGELES</td>\n",
       "      <td>INGLEWOOD</td>\n",
       "      <td>-118.338821</td>\n",
       "      <td>33.941811</td>\n",
       "    </tr>\n",
       "    <tr>\n",
       "      <th>2</th>\n",
       "      <td>81380545</td>\n",
       "      <td>2021</td>\n",
       "      <td>2021-01-05</td>\n",
       "      <td>1933</td>\n",
       "      <td>2021-01-01</td>\n",
       "      <td>838</td>\n",
       "      <td>828</td>\n",
       "      <td>29</td>\n",
       "      <td>5</td>\n",
       "      <td>5</td>\n",
       "      <td>...</td>\n",
       "      <td>0</td>\n",
       "      <td>0</td>\n",
       "      <td>-</td>\n",
       "      <td>-</td>\n",
       "      <td>33.945438</td>\n",
       "      <td>-118.326469</td>\n",
       "      <td>LOS ANGELES</td>\n",
       "      <td>INGLEWOOD</td>\n",
       "      <td>-118.326477</td>\n",
       "      <td>33.945881</td>\n",
       "    </tr>\n",
       "    <tr>\n",
       "      <th>3</th>\n",
       "      <td>81380547</td>\n",
       "      <td>2021</td>\n",
       "      <td>2021-01-05</td>\n",
       "      <td>1933</td>\n",
       "      <td>2021-01-01</td>\n",
       "      <td>1228</td>\n",
       "      <td>828</td>\n",
       "      <td>36</td>\n",
       "      <td>5</td>\n",
       "      <td>5</td>\n",
       "      <td>...</td>\n",
       "      <td>0</td>\n",
       "      <td>0</td>\n",
       "      <td>-</td>\n",
       "      <td>-</td>\n",
       "      <td>33.937698</td>\n",
       "      <td>-118.326508</td>\n",
       "      <td>LOS ANGELES</td>\n",
       "      <td>INGLEWOOD</td>\n",
       "      <td>-118.326721</td>\n",
       "      <td>33.938660</td>\n",
       "    </tr>\n",
       "    <tr>\n",
       "      <th>4</th>\n",
       "      <td>81380897</td>\n",
       "      <td>2021</td>\n",
       "      <td>2021-01-05</td>\n",
       "      <td>1942</td>\n",
       "      <td>2021-01-01</td>\n",
       "      <td>920</td>\n",
       "      <td>38282</td>\n",
       "      <td>0638</td>\n",
       "      <td>5</td>\n",
       "      <td>5</td>\n",
       "      <td>...</td>\n",
       "      <td>0</td>\n",
       "      <td>0</td>\n",
       "      <td>-</td>\n",
       "      <td>-</td>\n",
       "      <td>NaN</td>\n",
       "      <td>NaN</td>\n",
       "      <td>LOS ANGELES</td>\n",
       "      <td>LOS ANGELES</td>\n",
       "      <td>-118.309280</td>\n",
       "      <td>34.102161</td>\n",
       "    </tr>\n",
       "  </tbody>\n",
       "</table>\n",
       "<p>5 rows × 80 columns</p>\n",
       "</div>"
      ],
      "text/plain": [
       "    CASE_ID  ACCIDENT_YEAR   PROC_DATE  JURIS COLLISION_DATE  COLLISION_TIME  \\\n",
       "0  81380291           2021  2021-01-04   1942     2021-01-02            1910   \n",
       "1  81380543           2021  2021-01-05   1933     2021-01-01             140   \n",
       "2  81380545           2021  2021-01-05   1933     2021-01-01             838   \n",
       "3  81380547           2021  2021-01-05   1933     2021-01-01            1228   \n",
       "4  81380897           2021  2021-01-05   1942     2021-01-01             920   \n",
       "\n",
       "  OFFICER_ID REPORTING_DISTRICT  DAY_OF_WEEK  CHP_SHIFT  ...  COUNT_MC_KILLED  \\\n",
       "0      35203               2074            6          5  ...                0   \n",
       "1        916                 30            5          5  ...                0   \n",
       "2        828                 29            5          5  ...                0   \n",
       "3        828                 36            5          5  ...                0   \n",
       "4      38282               0638            5          5  ...                0   \n",
       "\n",
       "   COUNT_MC_INJURED  PRIMARY_RAMP  SECONDARY_RAMP   LATITUDE   LONGITUDE  \\\n",
       "0                 0            -               -         NaN         NaN   \n",
       "1                 0            -               -   33.941830 -118.339783   \n",
       "2                 0            -               -   33.945438 -118.326469   \n",
       "3                 0            -               -   33.937698 -118.326508   \n",
       "4                 0            -               -         NaN         NaN   \n",
       "\n",
       "        COUNTY         CITY     POINT_X    POINT_Y  \n",
       "0  LOS ANGELES  LOS ANGELES -118.301025  34.043671  \n",
       "1  LOS ANGELES    INGLEWOOD -118.338821  33.941811  \n",
       "2  LOS ANGELES    INGLEWOOD -118.326477  33.945881  \n",
       "3  LOS ANGELES    INGLEWOOD -118.326721  33.938660  \n",
       "4  LOS ANGELES  LOS ANGELES -118.309280  34.102161  \n",
       "\n",
       "[5 rows x 80 columns]"
      ]
     },
     "execution_count": 23,
     "metadata": {},
     "output_type": "execute_result"
    }
   ],
   "source": [
    "df.head()"
   ]
  },
  {
   "cell_type": "code",
   "execution_count": 25,
   "id": "f87a0fe0-20a0-4394-baf0-aad4c3462d6c",
   "metadata": {},
   "outputs": [],
   "source": [
    "# Incorporate point x and y into lat long\n",
    "# chck for missing values nans\n",
    "# check for string/numbers\n",
    "# set case ID as index (eisha)\n",
    "\n",
    "# Connect it to tracts data census (abirami)\n",
    "# produce contextily map for reference with crs 4326\n",
    "\n",
    "# produce some basic summary stats"
   ]
  },
  {
   "cell_type": "code",
   "execution_count": 27,
   "id": "30adf36b-9952-468e-880e-2d1fc6becfd4",
   "metadata": {},
   "outputs": [
    {
     "data": {
      "text/plain": [
       "True"
      ]
     },
     "execution_count": 27,
     "metadata": {},
     "output_type": "execute_result"
    }
   ],
   "source": [
    "df['CASE_ID'].is_unique"
   ]
  },
  {
   "cell_type": "code",
   "execution_count": 29,
   "id": "317df4e2-f4b5-4045-a339-c3ea46e691b6",
   "metadata": {},
   "outputs": [
    {
     "data": {
      "text/plain": [
       "Index(['CASE_ID', 'ACCIDENT_YEAR', 'PROC_DATE', 'JURIS', 'COLLISION_DATE',\n",
       "       'COLLISION_TIME', 'OFFICER_ID', 'REPORTING_DISTRICT', 'DAY_OF_WEEK',\n",
       "       'CHP_SHIFT', 'POPULATION', 'CNTY_CITY_LOC', 'SPECIAL_COND', 'BEAT_TYPE',\n",
       "       'CHP_BEAT_TYPE', 'CITY_DIVISION_LAPD', 'CHP_BEAT_CLASS', 'BEAT_NUMBER',\n",
       "       'PRIMARY_RD', 'SECONDARY_RD', 'DISTANCE', 'DIRECTION', 'INTERSECTION',\n",
       "       'WEATHER_1', 'WEATHER_2', 'STATE_HWY_IND', 'CALTRANS_COUNTY',\n",
       "       'CALTRANS_DISTRICT', 'STATE_ROUTE', 'ROUTE_SUFFIX', 'POSTMILE_PREFIX',\n",
       "       'POSTMILE', 'LOCATION_TYPE', 'RAMP_INTERSECTION', 'SIDE_OF_HWY',\n",
       "       'TOW_AWAY', 'COLLISION_SEVERITY', 'NUMBER_KILLED', 'NUMBER_INJURED',\n",
       "       'PARTY_COUNT', 'PRIMARY_COLL_FACTOR', 'PCF_CODE_OF_VIOL',\n",
       "       'PCF_VIOL_CATEGORY', 'PCF_VIOLATION', 'PCF_VIOL_SUBSECTION',\n",
       "       'HIT_AND_RUN', 'TYPE_OF_COLLISION', 'MVIW', 'PED_ACTION',\n",
       "       'ROAD_SURFACE', 'ROAD_COND_1', 'ROAD_COND_2', 'LIGHTING',\n",
       "       'CONTROL_DEVICE', 'CHP_ROAD_TYPE', 'PEDESTRIAN_ACCIDENT',\n",
       "       'BICYCLE_ACCIDENT', 'MOTORCYCLE_ACCIDENT', 'TRUCK_ACCIDENT',\n",
       "       'NOT_PRIVATE_PROPERTY', 'ALCOHOL_INVOLVED', 'STWD_VEHTYPE_AT_FAULT',\n",
       "       'CHP_VEHTYPE_AT_FAULT', 'COUNT_SEVERE_INJ', 'COUNT_VISIBLE_INJ',\n",
       "       'COUNT_COMPLAINT_PAIN', 'COUNT_PED_KILLED', 'COUNT_PED_INJURED',\n",
       "       'COUNT_BICYCLIST_KILLED', 'COUNT_BICYCLIST_INJURED', 'COUNT_MC_KILLED',\n",
       "       'COUNT_MC_INJURED', 'PRIMARY_RAMP', 'SECONDARY_RAMP', 'LATITUDE',\n",
       "       'LONGITUDE', 'COUNTY', 'CITY', 'POINT_X', 'POINT_Y'],\n",
       "      dtype='object')"
      ]
     },
     "execution_count": 29,
     "metadata": {},
     "output_type": "execute_result"
    }
   ],
   "source": [
    "df.columns"
   ]
  },
  {
   "cell_type": "code",
   "execution_count": 31,
   "id": "56ea5efd-8cb3-43cd-8bc4-7df29292b83b",
   "metadata": {},
   "outputs": [],
   "source": [
    "# how many sereve/fatal accidents in which tracts, top 10 tracts\n",
    "# how many severe/datal accidents by weather\n",
    "# mean number of accidents in top 10 tracts\n",
    "\n",
    "#boolean values of whether its severe or fatal (eisha)\n"
   ]
  },
  {
   "cell_type": "code",
   "execution_count": 33,
   "id": "2915719c-0df8-45c3-9348-166ef5e69aaf",
   "metadata": {},
   "outputs": [],
   "source": [
    "# lets go over wrangling and spatial relations"
   ]
  },
  {
   "cell_type": "code",
   "execution_count": 35,
   "id": "9d8730a8-c06a-4ba8-a720-020597d89c41",
   "metadata": {},
   "outputs": [],
   "source": [
    "# 3 maps\n",
    "# q that just shows crashes in LA\n",
    "# Machine learning "
   ]
  },
  {
   "cell_type": "code",
   "execution_count": 37,
   "id": "84967532-4c2f-470b-9e2e-71911c781ae1",
   "metadata": {},
   "outputs": [],
   "source": [
    "# save it as a new csv file and rename it accordingly"
   ]
  },
  {
   "cell_type": "code",
   "execution_count": null,
   "id": "08859c4c-d17d-48f0-b2ee-28d728bdf973",
   "metadata": {},
   "outputs": [],
   "source": []
  }
 ],
 "metadata": {
  "kernelspec": {
   "display_name": "Python [conda env:base] *",
   "language": "python",
   "name": "conda-base-py"
  },
  "language_info": {
   "codemirror_mode": {
    "name": "ipython",
    "version": 3
   },
   "file_extension": ".py",
   "mimetype": "text/x-python",
   "name": "python",
   "nbconvert_exporter": "python",
   "pygments_lexer": "ipython3",
   "version": "3.12.7"
  }
 },
 "nbformat": 4,
 "nbformat_minor": 5
}

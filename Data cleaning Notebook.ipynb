{
 "cells": [
  {
   "cell_type": "code",
   "execution_count": 1,
   "id": "36eb290b-f853-457e-9d94-77df49edd89a",
   "metadata": {},
   "outputs": [],
   "source": [
    "import pandas as pd"
   ]
  },
  {
   "cell_type": "code",
   "execution_count": 19,
   "id": "4b4dffc6-3774-4ca5-951f-7e2eee145ec7",
   "metadata": {},
   "outputs": [
    {
     "name": "stderr",
     "output_type": "stream",
     "text": [
      "C:\\Users\\eisha\\AppData\\Local\\Temp\\ipykernel_22608\\1029628201.py:1: DtypeWarning: Columns (14) have mixed types. Specify dtype option on import or set low_memory=False.\n",
      "  df = pd.read_csv('Crashes (Severe and Fatal).csv')\n"
     ]
    }
   ],
   "source": [
    "df = pd.read_csv('Crashes (Severe and Fatal).csv')"
   ]
  },
  {
   "cell_type": "code",
   "execution_count": 7,
   "id": "cf1596d4-9e88-49b9-bcca-248ea9999a85",
   "metadata": {},
   "outputs": [
    {
     "data": {
      "text/html": [
       "<div>\n",
       "<style scoped>\n",
       "    .dataframe tbody tr th:only-of-type {\n",
       "        vertical-align: middle;\n",
       "    }\n",
       "\n",
       "    .dataframe tbody tr th {\n",
       "        vertical-align: top;\n",
       "    }\n",
       "\n",
       "    .dataframe thead th {\n",
       "        text-align: right;\n",
       "    }\n",
       "</style>\n",
       "<table border=\"1\" class=\"dataframe\">\n",
       "  <thead>\n",
       "    <tr style=\"text-align: right;\">\n",
       "      <th></th>\n",
       "      <th>CASE_ID</th>\n",
       "      <th>ACCIDENT_YEAR</th>\n",
       "      <th>PROC_DATE</th>\n",
       "      <th>JURIS</th>\n",
       "      <th>COLLISION_DATE</th>\n",
       "      <th>COLLISION_TIME</th>\n",
       "      <th>OFFICER_ID</th>\n",
       "      <th>REPORTING_DISTRICT</th>\n",
       "      <th>DAY_OF_WEEK</th>\n",
       "      <th>CHP_SHIFT</th>\n",
       "      <th>...</th>\n",
       "      <th>COUNT_MC_KILLED</th>\n",
       "      <th>COUNT_MC_INJURED</th>\n",
       "      <th>PRIMARY_RAMP</th>\n",
       "      <th>SECONDARY_RAMP</th>\n",
       "      <th>LATITUDE</th>\n",
       "      <th>LONGITUDE</th>\n",
       "      <th>COUNTY</th>\n",
       "      <th>CITY</th>\n",
       "      <th>POINT_X</th>\n",
       "      <th>POINT_Y</th>\n",
       "    </tr>\n",
       "  </thead>\n",
       "  <tbody>\n",
       "    <tr>\n",
       "      <th>0</th>\n",
       "      <td>81386247</td>\n",
       "      <td>2021</td>\n",
       "      <td>2021-01-12</td>\n",
       "      <td>1942</td>\n",
       "      <td>2021-01-11</td>\n",
       "      <td>2250</td>\n",
       "      <td>42834</td>\n",
       "      <td>0841</td>\n",
       "      <td>1</td>\n",
       "      <td>5</td>\n",
       "      <td>...</td>\n",
       "      <td>0</td>\n",
       "      <td>0</td>\n",
       "      <td>-</td>\n",
       "      <td>-</td>\n",
       "      <td>NaN</td>\n",
       "      <td>NaN</td>\n",
       "      <td>LOS ANGELES</td>\n",
       "      <td>LOS ANGELES</td>\n",
       "      <td>-118.463303</td>\n",
       "      <td>34.040527</td>\n",
       "    </tr>\n",
       "    <tr>\n",
       "      <th>1</th>\n",
       "      <td>81386451</td>\n",
       "      <td>2021</td>\n",
       "      <td>2021-01-13</td>\n",
       "      <td>1933</td>\n",
       "      <td>2021-01-11</td>\n",
       "      <td>1825</td>\n",
       "      <td>1019</td>\n",
       "      <td>34</td>\n",
       "      <td>1</td>\n",
       "      <td>5</td>\n",
       "      <td>...</td>\n",
       "      <td>0</td>\n",
       "      <td>0</td>\n",
       "      <td>-</td>\n",
       "      <td>-</td>\n",
       "      <td>33.934589</td>\n",
       "      <td>-118.343948</td>\n",
       "      <td>LOS ANGELES</td>\n",
       "      <td>INGLEWOOD</td>\n",
       "      <td>-118.343910</td>\n",
       "      <td>33.934555</td>\n",
       "    </tr>\n",
       "    <tr>\n",
       "      <th>2</th>\n",
       "      <td>81386523</td>\n",
       "      <td>2021</td>\n",
       "      <td>2021-01-13</td>\n",
       "      <td>1942</td>\n",
       "      <td>2021-01-08</td>\n",
       "      <td>215</td>\n",
       "      <td>37336</td>\n",
       "      <td>2015</td>\n",
       "      <td>5</td>\n",
       "      <td>5</td>\n",
       "      <td>...</td>\n",
       "      <td>0</td>\n",
       "      <td>0</td>\n",
       "      <td>-</td>\n",
       "      <td>-</td>\n",
       "      <td>NaN</td>\n",
       "      <td>NaN</td>\n",
       "      <td>LOS ANGELES</td>\n",
       "      <td>LOS ANGELES</td>\n",
       "      <td>-118.299965</td>\n",
       "      <td>34.076294</td>\n",
       "    </tr>\n",
       "    <tr>\n",
       "      <th>3</th>\n",
       "      <td>81386600</td>\n",
       "      <td>2021</td>\n",
       "      <td>2021-01-13</td>\n",
       "      <td>1942</td>\n",
       "      <td>2021-01-11</td>\n",
       "      <td>1440</td>\n",
       "      <td>34959</td>\n",
       "      <td>0813</td>\n",
       "      <td>1</td>\n",
       "      <td>5</td>\n",
       "      <td>...</td>\n",
       "      <td>1</td>\n",
       "      <td>0</td>\n",
       "      <td>-</td>\n",
       "      <td>-</td>\n",
       "      <td>NaN</td>\n",
       "      <td>NaN</td>\n",
       "      <td>LOS ANGELES</td>\n",
       "      <td>LOS ANGELES</td>\n",
       "      <td>-118.468544</td>\n",
       "      <td>34.071571</td>\n",
       "    </tr>\n",
       "    <tr>\n",
       "      <th>4</th>\n",
       "      <td>81389667</td>\n",
       "      <td>2021</td>\n",
       "      <td>2021-01-18</td>\n",
       "      <td>1942</td>\n",
       "      <td>2021-01-13</td>\n",
       "      <td>1510</td>\n",
       "      <td>40315</td>\n",
       "      <td>0819</td>\n",
       "      <td>3</td>\n",
       "      <td>5</td>\n",
       "      <td>...</td>\n",
       "      <td>0</td>\n",
       "      <td>0</td>\n",
       "      <td>-</td>\n",
       "      <td>-</td>\n",
       "      <td>NaN</td>\n",
       "      <td>NaN</td>\n",
       "      <td>LOS ANGELES</td>\n",
       "      <td>LOS ANGELES</td>\n",
       "      <td>-118.428917</td>\n",
       "      <td>34.066875</td>\n",
       "    </tr>\n",
       "  </tbody>\n",
       "</table>\n",
       "<p>5 rows × 80 columns</p>\n",
       "</div>"
      ],
      "text/plain": [
       "    CASE_ID  ACCIDENT_YEAR   PROC_DATE  JURIS COLLISION_DATE  COLLISION_TIME  \\\n",
       "0  81386247           2021  2021-01-12   1942     2021-01-11            2250   \n",
       "1  81386451           2021  2021-01-13   1933     2021-01-11            1825   \n",
       "2  81386523           2021  2021-01-13   1942     2021-01-08             215   \n",
       "3  81386600           2021  2021-01-13   1942     2021-01-11            1440   \n",
       "4  81389667           2021  2021-01-18   1942     2021-01-13            1510   \n",
       "\n",
       "  OFFICER_ID REPORTING_DISTRICT  DAY_OF_WEEK  CHP_SHIFT  ...  COUNT_MC_KILLED  \\\n",
       "0      42834               0841            1          5  ...                0   \n",
       "1       1019                 34            1          5  ...                0   \n",
       "2      37336               2015            5          5  ...                0   \n",
       "3      34959               0813            1          5  ...                1   \n",
       "4      40315               0819            3          5  ...                0   \n",
       "\n",
       "   COUNT_MC_INJURED  PRIMARY_RAMP  SECONDARY_RAMP   LATITUDE   LONGITUDE  \\\n",
       "0                 0            -               -         NaN         NaN   \n",
       "1                 0            -               -   33.934589 -118.343948   \n",
       "2                 0            -               -         NaN         NaN   \n",
       "3                 0            -               -         NaN         NaN   \n",
       "4                 0            -               -         NaN         NaN   \n",
       "\n",
       "        COUNTY         CITY     POINT_X    POINT_Y  \n",
       "0  LOS ANGELES  LOS ANGELES -118.463303  34.040527  \n",
       "1  LOS ANGELES    INGLEWOOD -118.343910  33.934555  \n",
       "2  LOS ANGELES  LOS ANGELES -118.299965  34.076294  \n",
       "3  LOS ANGELES  LOS ANGELES -118.468544  34.071571  \n",
       "4  LOS ANGELES  LOS ANGELES -118.428917  34.066875  \n",
       "\n",
       "[5 rows x 80 columns]"
      ]
     },
     "execution_count": 7,
     "metadata": {},
     "output_type": "execute_result"
    }
   ],
   "source": [
    "df.head()"
   ]
  },
  {
   "cell_type": "code",
   "execution_count": 9,
   "id": "f87a0fe0-20a0-4394-baf0-aad4c3462d6c",
   "metadata": {},
   "outputs": [],
   "source": [
    "# Incorporate point x and y into lat long\n",
    "# chck for missing values nans\n",
    "# check for string/numbers\n",
    "# set case ID as index (eisha)\n",
    "\n",
    "# Connect it to tracts data census (abirami)\n",
    "# produce contextily map for reference with crs 4326\n",
    "\n",
    "# produce some basic summary stats"
   ]
  },
  {
   "cell_type": "code",
   "execution_count": 13,
   "id": "30adf36b-9952-468e-880e-2d1fc6becfd4",
   "metadata": {},
   "outputs": [
    {
     "data": {
      "text/plain": [
       "True"
      ]
     },
     "execution_count": 13,
     "metadata": {},
     "output_type": "execute_result"
    }
   ],
   "source": [
    "df['CASE_ID'].is_unique"
   ]
  },
  {
   "cell_type": "code",
   "execution_count": 11,
   "id": "317df4e2-f4b5-4045-a339-c3ea46e691b6",
   "metadata": {},
   "outputs": [
    {
     "data": {
      "text/plain": [
       "Index(['CASE_ID', 'ACCIDENT_YEAR', 'PROC_DATE', 'JURIS', 'COLLISION_DATE',\n",
       "       'COLLISION_TIME', 'OFFICER_ID', 'REPORTING_DISTRICT', 'DAY_OF_WEEK',\n",
       "       'CHP_SHIFT', 'POPULATION', 'CNTY_CITY_LOC', 'SPECIAL_COND', 'BEAT_TYPE',\n",
       "       'CHP_BEAT_TYPE', 'CITY_DIVISION_LAPD', 'CHP_BEAT_CLASS', 'BEAT_NUMBER',\n",
       "       'PRIMARY_RD', 'SECONDARY_RD', 'DISTANCE', 'DIRECTION', 'INTERSECTION',\n",
       "       'WEATHER_1', 'WEATHER_2', 'STATE_HWY_IND', 'CALTRANS_COUNTY',\n",
       "       'CALTRANS_DISTRICT', 'STATE_ROUTE', 'ROUTE_SUFFIX', 'POSTMILE_PREFIX',\n",
       "       'POSTMILE', 'LOCATION_TYPE', 'RAMP_INTERSECTION', 'SIDE_OF_HWY',\n",
       "       'TOW_AWAY', 'COLLISION_SEVERITY', 'NUMBER_KILLED', 'NUMBER_INJURED',\n",
       "       'PARTY_COUNT', 'PRIMARY_COLL_FACTOR', 'PCF_CODE_OF_VIOL',\n",
       "       'PCF_VIOL_CATEGORY', 'PCF_VIOLATION', 'PCF_VIOL_SUBSECTION',\n",
       "       'HIT_AND_RUN', 'TYPE_OF_COLLISION', 'MVIW', 'PED_ACTION',\n",
       "       'ROAD_SURFACE', 'ROAD_COND_1', 'ROAD_COND_2', 'LIGHTING',\n",
       "       'CONTROL_DEVICE', 'CHP_ROAD_TYPE', 'PEDESTRIAN_ACCIDENT',\n",
       "       'BICYCLE_ACCIDENT', 'MOTORCYCLE_ACCIDENT', 'TRUCK_ACCIDENT',\n",
       "       'NOT_PRIVATE_PROPERTY', 'ALCOHOL_INVOLVED', 'STWD_VEHTYPE_AT_FAULT',\n",
       "       'CHP_VEHTYPE_AT_FAULT', 'COUNT_SEVERE_INJ', 'COUNT_VISIBLE_INJ',\n",
       "       'COUNT_COMPLAINT_PAIN', 'COUNT_PED_KILLED', 'COUNT_PED_INJURED',\n",
       "       'COUNT_BICYCLIST_KILLED', 'COUNT_BICYCLIST_INJURED', 'COUNT_MC_KILLED',\n",
       "       'COUNT_MC_INJURED', 'PRIMARY_RAMP', 'SECONDARY_RAMP', 'LATITUDE',\n",
       "       'LONGITUDE', 'COUNTY', 'CITY', 'POINT_X', 'POINT_Y'],\n",
       "      dtype='object')"
      ]
     },
     "execution_count": 11,
     "metadata": {},
     "output_type": "execute_result"
    }
   ],
   "source": [
    "df.columns"
   ]
  },
  {
   "cell_type": "code",
   "execution_count": null,
   "id": "56ea5efd-8cb3-43cd-8bc4-7df29292b83b",
   "metadata": {},
   "outputs": [],
   "source": [
    "# how many sereve/fatal accidents in which tracts, top 10 tracts\n",
    "# how many severe/datal accidents by weather\n",
    "# mean number of accidents in top 10 tracts\n",
    "\n",
    "#boolean values of whether its severe or fatal (eisha)\n"
   ]
  },
  {
   "cell_type": "code",
   "execution_count": null,
   "id": "2915719c-0df8-45c3-9348-166ef5e69aaf",
   "metadata": {},
   "outputs": [],
   "source": [
    "# lets go over wrangling and spatial relations"
   ]
  },
  {
   "cell_type": "code",
   "execution_count": 17,
   "id": "9d8730a8-c06a-4ba8-a720-020597d89c41",
   "metadata": {},
   "outputs": [],
   "source": [
    "# 3 maps\n",
    "# q that just shows crashes in LA\n",
    "# Machine learning "
   ]
  },
  {
   "cell_type": "code",
   "execution_count": null,
   "id": "84967532-4c2f-470b-9e2e-71911c781ae1",
   "metadata": {},
   "outputs": [],
   "source": []
  }
 ],
 "metadata": {
  "kernelspec": {
   "display_name": "Python [conda env:base] *",
   "language": "python",
   "name": "conda-base-py"
  },
  "language_info": {
   "codemirror_mode": {
    "name": "ipython",
    "version": 3
   },
   "file_extension": ".py",
   "mimetype": "text/x-python",
   "name": "python",
   "nbconvert_exporter": "python",
   "pygments_lexer": "ipython3",
   "version": "3.12.7"
  }
 },
 "nbformat": 4,
 "nbformat_minor": 5
}
